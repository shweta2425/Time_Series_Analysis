{
 "cells": [
  {
   "cell_type": "code",
   "execution_count": 1,
   "metadata": {},
   "outputs": [],
   "source": [
    "# Recurrent Neural Network\n",
    "# Part 1 - Data Preprocessing\n",
    "\n",
    "# Importing the libraries\n",
    "import numpy as np\n",
    "import matplotlib.pyplot as plt\n",
    "import pandas as pd\n"
   ]
  },
  {
   "cell_type": "code",
   "execution_count": 2,
   "metadata": {},
   "outputs": [
    {
     "data": {
      "text/html": [
       "<div>\n",
       "<style scoped>\n",
       "    .dataframe tbody tr th:only-of-type {\n",
       "        vertical-align: middle;\n",
       "    }\n",
       "\n",
       "    .dataframe tbody tr th {\n",
       "        vertical-align: top;\n",
       "    }\n",
       "\n",
       "    .dataframe thead th {\n",
       "        text-align: right;\n",
       "    }\n",
       "</style>\n",
       "<table border=\"1\" class=\"dataframe\">\n",
       "  <thead>\n",
       "    <tr style=\"text-align: right;\">\n",
       "      <th></th>\n",
       "      <th>Date</th>\n",
       "      <th>Open</th>\n",
       "      <th>High</th>\n",
       "      <th>Low</th>\n",
       "      <th>Close</th>\n",
       "      <th>Adj Close</th>\n",
       "      <th>Volume</th>\n",
       "    </tr>\n",
       "  </thead>\n",
       "  <tbody>\n",
       "    <tr>\n",
       "      <th>0</th>\n",
       "      <td>2013-01-02</td>\n",
       "      <td>79.117142</td>\n",
       "      <td>79.285713</td>\n",
       "      <td>77.375717</td>\n",
       "      <td>78.432854</td>\n",
       "      <td>69.057251</td>\n",
       "      <td>140129500</td>\n",
       "    </tr>\n",
       "    <tr>\n",
       "      <th>1</th>\n",
       "      <td>2013-01-03</td>\n",
       "      <td>78.268570</td>\n",
       "      <td>78.524284</td>\n",
       "      <td>77.285713</td>\n",
       "      <td>77.442856</td>\n",
       "      <td>68.185600</td>\n",
       "      <td>88241300</td>\n",
       "    </tr>\n",
       "    <tr>\n",
       "      <th>2</th>\n",
       "      <td>2013-01-04</td>\n",
       "      <td>76.709999</td>\n",
       "      <td>76.947144</td>\n",
       "      <td>75.118568</td>\n",
       "      <td>75.285713</td>\n",
       "      <td>66.286301</td>\n",
       "      <td>148583400</td>\n",
       "    </tr>\n",
       "    <tr>\n",
       "      <th>3</th>\n",
       "      <td>2013-01-07</td>\n",
       "      <td>74.571426</td>\n",
       "      <td>75.614288</td>\n",
       "      <td>73.599998</td>\n",
       "      <td>74.842857</td>\n",
       "      <td>65.896370</td>\n",
       "      <td>121039100</td>\n",
       "    </tr>\n",
       "    <tr>\n",
       "      <th>4</th>\n",
       "      <td>2013-01-08</td>\n",
       "      <td>75.601425</td>\n",
       "      <td>75.984283</td>\n",
       "      <td>74.464287</td>\n",
       "      <td>75.044289</td>\n",
       "      <td>66.073723</td>\n",
       "      <td>114676800</td>\n",
       "    </tr>\n",
       "  </tbody>\n",
       "</table>\n",
       "</div>"
      ],
      "text/plain": [
       "         Date       Open       High        Low      Close  Adj Close  \\\n",
       "0  2013-01-02  79.117142  79.285713  77.375717  78.432854  69.057251   \n",
       "1  2013-01-03  78.268570  78.524284  77.285713  77.442856  68.185600   \n",
       "2  2013-01-04  76.709999  76.947144  75.118568  75.285713  66.286301   \n",
       "3  2013-01-07  74.571426  75.614288  73.599998  74.842857  65.896370   \n",
       "4  2013-01-08  75.601425  75.984283  74.464287  75.044289  66.073723   \n",
       "\n",
       "      Volume  \n",
       "0  140129500  \n",
       "1   88241300  \n",
       "2  148583400  \n",
       "3  121039100  \n",
       "4  114676800  "
      ]
     },
     "execution_count": 2,
     "metadata": {},
     "output_type": "execute_result"
    }
   ],
   "source": [
    "# Importing the training set\n",
    "\n",
    "apple_training_complete = pd.read_csv('Dataset/AAPL (3).csv')\n",
    "apple_training_complete.head()"
   ]
  },
  {
   "cell_type": "code",
   "execution_count": 3,
   "metadata": {},
   "outputs": [],
   "source": [
    "apple_training_processed = apple_training_complete.iloc[:, 1:2].values"
   ]
  },
  {
   "cell_type": "code",
   "execution_count": 4,
   "metadata": {},
   "outputs": [
    {
     "data": {
      "text/plain": [
       "(1259, 1)"
      ]
     },
     "execution_count": 4,
     "metadata": {},
     "output_type": "execute_result"
    }
   ],
   "source": [
    "apple_training_processed.shape"
   ]
  },
  {
   "cell_type": "code",
   "execution_count": 5,
   "metadata": {},
   "outputs": [],
   "source": [
    "# Feature Scaling\n",
    "\n",
    "from sklearn.preprocessing import MinMaxScaler\n",
    "scaler = MinMaxScaler(feature_range = (0, 1))\n",
    "\n",
    "apple_training_scaled = scaler.fit_transform(apple_training_processed)"
   ]
  },
  {
   "cell_type": "code",
   "execution_count": 17,
   "metadata": {},
   "outputs": [],
   "source": [
    "# Creating a data structure with 60 timesteps and 1 output\n",
    "\n",
    "features_set = []\n",
    "labels = []\n",
    "for i in range(60, 1259):\n",
    "    features_set.append(apple_training_scaled[i-60:i, 0])\n",
    "    labels.append(apple_training_scaled[i, 0])"
   ]
  },
  {
   "cell_type": "code",
   "execution_count": 18,
   "metadata": {},
   "outputs": [
    {
     "ename": "AttributeError",
     "evalue": "'list' object has no attribute 'shape'",
     "output_type": "error",
     "traceback": [
      "\u001b[1;31m---------------------------------------------------------------------------\u001b[0m",
      "\u001b[1;31mAttributeError\u001b[0m                            Traceback (most recent call last)",
      "\u001b[1;32m<ipython-input-18-628c0dc3f284>\u001b[0m in \u001b[0;36m<module>\u001b[1;34m\u001b[0m\n\u001b[1;32m----> 1\u001b[1;33m \u001b[0mfeatures_set\u001b[0m\u001b[1;33m.\u001b[0m\u001b[0mshape\u001b[0m\u001b[1;33m\u001b[0m\u001b[1;33m\u001b[0m\u001b[0m\n\u001b[0m",
      "\u001b[1;31mAttributeError\u001b[0m: 'list' object has no attribute 'shape'"
     ]
    }
   ],
   "source": []
  },
  {
   "cell_type": "code",
   "execution_count": 19,
   "metadata": {},
   "outputs": [
    {
     "data": {
      "text/plain": [
       "((1199, 60), (1199,))"
      ]
     },
     "execution_count": 19,
     "metadata": {},
     "output_type": "execute_result"
    }
   ],
   "source": [
    "#  convert both the feature_set and the labels list to the numpy array\n",
    "features_set, labels = np.array(features_set), np.array(labels)\n",
    "features_set.shape,labels.shape"
   ]
  },
  {
   "cell_type": "code",
   "execution_count": 8,
   "metadata": {},
   "outputs": [
    {
     "data": {
      "text/plain": [
       "((1199, 60, 1), (1199,))"
      ]
     },
     "execution_count": 8,
     "metadata": {},
     "output_type": "execute_result"
    }
   ],
   "source": [
    "# Reshaping\n",
    "features_set = np.reshape(features_set, (features_set.shape[0], features_set.shape[1], 1))\n",
    "features_set.shape,labels.shape"
   ]
  },
  {
   "cell_type": "code",
   "execution_count": 112,
   "metadata": {},
   "outputs": [],
   "source": [
    "# Part 2 - Building the RNN\n",
    "\n",
    "# Importing the Keras libraries and packages\n",
    "from keras.models import Sequential\n",
    "from keras.layers import Dense\n",
    "from keras.layers import LSTM\n",
    "from keras.layers import Dropout\n"
   ]
  },
  {
   "cell_type": "code",
   "execution_count": 113,
   "metadata": {},
   "outputs": [],
   "source": [
    "# Initialising the RNN\n",
    "model = Sequential()"
   ]
  },
  {
   "cell_type": "code",
   "execution_count": 114,
   "metadata": {},
   "outputs": [],
   "source": [
    "# Adding the first LSTM layer and some Dropout regularisation\n",
    "\n",
    "model.add(LSTM(units=50, return_sequences=True, input_shape=(features_set.shape[1], 1)))"
   ]
  },
  {
   "cell_type": "code",
   "execution_count": 115,
   "metadata": {},
   "outputs": [],
   "source": [
    "# add a dropout layer to our model. Dropout layer is added to avoid over-fitting, \n",
    "model.add(Dropout(0.2))"
   ]
  },
  {
   "cell_type": "code",
   "execution_count": 116,
   "metadata": {},
   "outputs": [],
   "source": [
    "# Adding a second LSTM layer and some Dropout regularisation\n",
    "\n",
    "model.add(LSTM(units=50, return_sequences=True))\n",
    "model.add(Dropout(0.2))\n",
    "\n",
    "model.add(LSTM(units=50, return_sequences=True))\n",
    "model.add(Dropout(0.2))\n",
    "\n",
    "model.add(LSTM(units=50))\n",
    "model.add(Dropout(0.2))"
   ]
  },
  {
   "cell_type": "code",
   "execution_count": 117,
   "metadata": {},
   "outputs": [],
   "source": [
    "# Adding the output layer\n",
    "model.add(Dense(units = 1))"
   ]
  },
  {
   "cell_type": "code",
   "execution_count": 118,
   "metadata": {},
   "outputs": [],
   "source": [
    "# Compiling the RNN\n",
    "model.compile(optimizer = 'adam', loss = 'mean_squared_error')\n"
   ]
  },
  {
   "cell_type": "code",
   "execution_count": 119,
   "metadata": {},
   "outputs": [
    {
     "name": "stdout",
     "output_type": "stream",
     "text": [
      "Epoch 1/100\n",
      "1199/1199 [==============================] - 34s 29ms/step - loss: 0.0439\n",
      "Epoch 2/100\n",
      "1199/1199 [==============================] - 8s 6ms/step - loss: 0.0057\n",
      "Epoch 3/100\n",
      "1199/1199 [==============================] - 5s 4ms/step - loss: 0.0044\n",
      "Epoch 4/100\n",
      "1199/1199 [==============================] - 4s 4ms/step - loss: 0.0045\n",
      "Epoch 5/100\n",
      "1199/1199 [==============================] - 4s 4ms/step - loss: 0.0043\n",
      "Epoch 6/100\n",
      "1199/1199 [==============================] - 4s 4ms/step - loss: 0.0042\n",
      "Epoch 7/100\n",
      "1199/1199 [==============================] - 5s 4ms/step - loss: 0.0039\n",
      "Epoch 8/100\n",
      "1199/1199 [==============================] - 6s 5ms/step - loss: 0.0043\n",
      "Epoch 9/100\n",
      "1199/1199 [==============================] - 5s 5ms/step - loss: 0.0038\n",
      "Epoch 10/100\n",
      "1199/1199 [==============================] - 6s 5ms/step - loss: 0.0034\n",
      "Epoch 11/100\n",
      "1199/1199 [==============================] - 6s 5ms/step - loss: 0.0034\n",
      "Epoch 12/100\n",
      "1199/1199 [==============================] - 5s 4ms/step - loss: 0.0034\n",
      "Epoch 13/100\n",
      "1199/1199 [==============================] - 4s 4ms/step - loss: 0.0030\n",
      "Epoch 14/100\n",
      "1199/1199 [==============================] - 5s 4ms/step - loss: 0.0029\n",
      "Epoch 15/100\n",
      "1199/1199 [==============================] - 5s 4ms/step - loss: 0.0027\n",
      "Epoch 16/100\n",
      "1199/1199 [==============================] - 5s 4ms/step - loss: 0.0032\n",
      "Epoch 17/100\n",
      "1199/1199 [==============================] - 5s 4ms/step - loss: 0.0034\n",
      "Epoch 18/100\n",
      "1199/1199 [==============================] - 5s 4ms/step - loss: 0.0031\n",
      "Epoch 19/100\n",
      "1199/1199 [==============================] - 5s 4ms/step - loss: 0.0027\n",
      "Epoch 20/100\n",
      "1199/1199 [==============================] - 4s 4ms/step - loss: 0.0031\n",
      "Epoch 21/100\n",
      "1199/1199 [==============================] - 5s 4ms/step - loss: 0.0027\n",
      "Epoch 22/100\n",
      "1199/1199 [==============================] - 5s 4ms/step - loss: 0.0027\n",
      "Epoch 23/100\n",
      "1199/1199 [==============================] - 6s 5ms/step - loss: 0.0025\n",
      "Epoch 24/100\n",
      "1199/1199 [==============================] - 5s 4ms/step - loss: 0.0026\n",
      "Epoch 25/100\n",
      "1199/1199 [==============================] - 5s 4ms/step - loss: 0.0026\n",
      "Epoch 26/100\n",
      "1199/1199 [==============================] - 5s 4ms/step - loss: 0.0027\n",
      "Epoch 27/100\n",
      "1199/1199 [==============================] - 6s 5ms/step - loss: 0.0027\n",
      "Epoch 28/100\n",
      "1199/1199 [==============================] - 6s 5ms/step - loss: 0.0028\n",
      "Epoch 29/100\n",
      "1199/1199 [==============================] - 6s 5ms/step - loss: 0.0022\n",
      "Epoch 30/100\n",
      "1199/1199 [==============================] - 7s 6ms/step - loss: 0.0022\n",
      "Epoch 31/100\n",
      "1199/1199 [==============================] - 6s 5ms/step - loss: 0.0026\n",
      "Epoch 32/100\n",
      "1199/1199 [==============================] - 6s 5ms/step - loss: 0.0023\n",
      "Epoch 33/100\n",
      "1199/1199 [==============================] - 5s 4ms/step - loss: 0.0024\n",
      "Epoch 34/100\n",
      "1199/1199 [==============================] - 6s 5ms/step - loss: 0.0024\n",
      "Epoch 35/100\n",
      "1199/1199 [==============================] - 7s 6ms/step - loss: 0.0023\n",
      "Epoch 36/100\n",
      "1199/1199 [==============================] - 8s 7ms/step - loss: 0.0025\n",
      "Epoch 37/100\n",
      "1199/1199 [==============================] - 8s 7ms/step - loss: 0.0019\n",
      "Epoch 38/100\n",
      "1199/1199 [==============================] - 9s 8ms/step - loss: 0.0020\n",
      "Epoch 39/100\n",
      "1199/1199 [==============================] - 8s 7ms/step - loss: 0.0020\n",
      "Epoch 40/100\n",
      "1199/1199 [==============================] - 8s 7ms/step - loss: 0.0019\n",
      "Epoch 41/100\n",
      "1199/1199 [==============================] - 10s 8ms/step - loss: 0.0021\n",
      "Epoch 42/100\n",
      "1199/1199 [==============================] - 10s 8ms/step - loss: 0.0017\n",
      "Epoch 43/100\n",
      "1199/1199 [==============================] - 10s 8ms/step - loss: 0.0019\n",
      "Epoch 44/100\n",
      "1199/1199 [==============================] - 9s 8ms/step - loss: 0.0021\n",
      "Epoch 45/100\n",
      "1199/1199 [==============================] - 10s 9ms/step - loss: 0.0021\n",
      "Epoch 46/100\n",
      "1199/1199 [==============================] - 10s 8ms/step - loss: 0.0020\n",
      "Epoch 47/100\n",
      "1199/1199 [==============================] - 11s 9ms/step - loss: 0.0019\n",
      "Epoch 48/100\n",
      "1199/1199 [==============================] - 9s 8ms/step - loss: 0.0019\n",
      "Epoch 49/100\n",
      "1199/1199 [==============================] - 11s 9ms/step - loss: 0.0018\n",
      "Epoch 50/100\n",
      "1199/1199 [==============================] - 12s 10ms/step - loss: 0.0017\n",
      "Epoch 51/100\n",
      "1199/1199 [==============================] - 13s 11ms/step - loss: 0.0018\n",
      "Epoch 52/100\n",
      "1199/1199 [==============================] - 15s 13ms/step - loss: 0.0018\n",
      "Epoch 53/100\n",
      "1199/1199 [==============================] - 12s 10ms/step - loss: 0.0017\n",
      "Epoch 54/100\n",
      "1199/1199 [==============================] - 12s 10ms/step - loss: 0.0020\n",
      "Epoch 55/100\n",
      "1199/1199 [==============================] - 12s 10ms/step - loss: 0.0017\n",
      "Epoch 56/100\n",
      "1199/1199 [==============================] - 13s 11ms/step - loss: 0.0015\n",
      "Epoch 57/100\n",
      "1199/1199 [==============================] - 12s 10ms/step - loss: 0.0017\n",
      "Epoch 58/100\n",
      "1199/1199 [==============================] - 13s 10ms/step - loss: 0.0017\n",
      "Epoch 59/100\n",
      "1199/1199 [==============================] - 12s 10ms/step - loss: 0.0017\n",
      "Epoch 60/100\n",
      "1199/1199 [==============================] - 13s 11ms/step - loss: 0.0016\n",
      "Epoch 61/100\n",
      "1199/1199 [==============================] - 12s 10ms/step - loss: 0.0016\n",
      "Epoch 62/100\n",
      "1199/1199 [==============================] - 12s 10ms/step - loss: 0.0019\n",
      "Epoch 63/100\n",
      "1199/1199 [==============================] - 13s 11ms/step - loss: 0.0015\n",
      "Epoch 64/100\n",
      "1199/1199 [==============================] - 12s 10ms/step - loss: 0.0018\n",
      "Epoch 65/100\n",
      "1199/1199 [==============================] - 12s 10ms/step - loss: 0.0014\n",
      "Epoch 66/100\n",
      "1199/1199 [==============================] - 12s 10ms/step - loss: 0.0016\n",
      "Epoch 67/100\n",
      "1199/1199 [==============================] - 12s 10ms/step - loss: 0.0014\n",
      "Epoch 68/100\n",
      "1199/1199 [==============================] - 12s 10ms/step - loss: 0.0015\n",
      "Epoch 69/100\n",
      "1199/1199 [==============================] - 12s 10ms/step - loss: 0.0015\n",
      "Epoch 70/100\n",
      "1199/1199 [==============================] - 12s 10ms/step - loss: 0.0014\n",
      "Epoch 71/100\n",
      "1199/1199 [==============================] - 12s 10ms/step - loss: 0.0013\n",
      "Epoch 72/100\n",
      "1199/1199 [==============================] - 11s 9ms/step - loss: 0.0014\n",
      "Epoch 73/100\n",
      "1199/1199 [==============================] - 11s 9ms/step - loss: 0.0016\n",
      "Epoch 74/100\n",
      "1199/1199 [==============================] - 11s 9ms/step - loss: 0.0014\n",
      "Epoch 75/100\n",
      "1199/1199 [==============================] - 13s 11ms/step - loss: 0.0016\n",
      "Epoch 76/100\n",
      "1199/1199 [==============================] - 12s 10ms/step - loss: 0.0015\n",
      "Epoch 77/100\n",
      "1199/1199 [==============================] - 12s 10ms/step - loss: 0.0016\n",
      "Epoch 78/100\n",
      "1199/1199 [==============================] - 9s 8ms/step - loss: 0.0014\n",
      "Epoch 79/100\n",
      "1199/1199 [==============================] - 8s 6ms/step - loss: 0.0013\n",
      "Epoch 80/100\n",
      "1199/1199 [==============================] - 8s 7ms/step - loss: 0.0014\n",
      "Epoch 81/100\n",
      "1199/1199 [==============================] - 8s 7ms/step - loss: 0.0013\n",
      "Epoch 82/100\n",
      "1199/1199 [==============================] - 8s 7ms/step - loss: 0.0014\n",
      "Epoch 83/100\n",
      "1199/1199 [==============================] - 8s 6ms/step - loss: 0.0014\n",
      "Epoch 84/100\n",
      "1199/1199 [==============================] - 8s 6ms/step - loss: 0.0013\n",
      "Epoch 85/100\n",
      "1199/1199 [==============================] - 8s 6ms/step - loss: 0.0013\n",
      "Epoch 86/100\n",
      "1199/1199 [==============================] - 8s 7ms/step - loss: 0.0012\n",
      "Epoch 87/100\n",
      "1199/1199 [==============================] - 8s 7ms/step - loss: 0.0012\n",
      "Epoch 88/100\n",
      "1199/1199 [==============================] - 8s 6ms/step - loss: 0.0014\n",
      "Epoch 89/100\n",
      "1199/1199 [==============================] - 8s 7ms/step - loss: 0.0013\n",
      "Epoch 90/100\n",
      "1199/1199 [==============================] - 8s 6ms/step - loss: 0.0014\n",
      "Epoch 91/100\n",
      "1199/1199 [==============================] - 8s 6ms/step - loss: 0.0012\n",
      "Epoch 92/100\n",
      "1199/1199 [==============================] - 8s 7ms/step - loss: 0.0012\n",
      "Epoch 93/100\n",
      "1199/1199 [==============================] - 8s 6ms/step - loss: 0.0013\n",
      "Epoch 94/100\n",
      "1199/1199 [==============================] - 8s 6ms/step - loss: 0.0011\n",
      "Epoch 95/100\n",
      "1199/1199 [==============================] - 8s 6ms/step - loss: 0.0011\n",
      "Epoch 96/100\n",
      "1199/1199 [==============================] - 8s 7ms/step - loss: 0.0012\n",
      "Epoch 97/100\n",
      "1199/1199 [==============================] - 9s 7ms/step - loss: 0.0011\n",
      "Epoch 98/100\n",
      "1199/1199 [==============================] - 7s 6ms/step - loss: 0.0012\n",
      "Epoch 99/100\n",
      "1199/1199 [==============================] - 5s 4ms/step - loss: 0.0012\n",
      "Epoch 100/100\n",
      "1199/1199 [==============================] - 5s 4ms/step - loss: 0.0012\n"
     ]
    },
    {
     "data": {
      "text/plain": [
       "<keras.callbacks.History at 0x211e3812518>"
      ]
     },
     "execution_count": 119,
     "metadata": {},
     "output_type": "execute_result"
    }
   ],
   "source": [
    "# Fitting the RNN to the Training set\n",
    "model.fit(features_set, labels, epochs = 100, batch_size = 32)\n"
   ]
  },
  {
   "cell_type": "code",
   "execution_count": 120,
   "metadata": {},
   "outputs": [
    {
     "data": {
      "text/plain": [
       "(21, 7)"
      ]
     },
     "execution_count": 120,
     "metadata": {},
     "output_type": "execute_result"
    }
   ],
   "source": [
    "# Part 3 - Making the predictions and visualising the results\n",
    "\n",
    "# Getting the real stock price of 2017\n",
    "\n",
    "apple_testing_complete = pd.read_csv('dataset/AAPL (4).csv')\n",
    "apple_testing_processed = apple_testing_complete.iloc[:, 1:2].values\n",
    "# apple_testing_processed\n",
    "apple_testing_complete.shape"
   ]
  },
  {
   "cell_type": "code",
   "execution_count": 121,
   "metadata": {},
   "outputs": [
    {
     "data": {
      "text/plain": [
       "(1280,)"
      ]
     },
     "execution_count": 121,
     "metadata": {},
     "output_type": "execute_result"
    }
   ],
   "source": [
    "apple_total = pd.concat((apple_training_complete['Open'], apple_testing_complete['Open']), axis=0)\n",
    "apple_total.shape"
   ]
  },
  {
   "cell_type": "code",
   "execution_count": 122,
   "metadata": {},
   "outputs": [
    {
     "data": {
      "text/plain": [
       "(81,)"
      ]
     },
     "execution_count": 122,
     "metadata": {},
     "output_type": "execute_result"
    }
   ],
   "source": [
    "test_inputs = apple_total[len(apple_total) - len(apple_testing_complete) - 60:].values\n",
    "test_inputs.shape"
   ]
  },
  {
   "cell_type": "code",
   "execution_count": 123,
   "metadata": {},
   "outputs": [
    {
     "data": {
      "text/plain": [
       "(81, 1)"
      ]
     },
     "execution_count": 123,
     "metadata": {},
     "output_type": "execute_result"
    }
   ],
   "source": [
    "test_inputs = test_inputs.reshape(-1,1)\n",
    "test_inputs = scaler.transform(test_inputs)\n",
    "test_inputs.shape"
   ]
  },
  {
   "cell_type": "code",
   "execution_count": 124,
   "metadata": {},
   "outputs": [],
   "source": [
    "test_features = []\n",
    "for i in range(60, 80):\n",
    "    test_features.append(test_inputs[i-60:i, 0])"
   ]
  },
  {
   "cell_type": "code",
   "execution_count": 125,
   "metadata": {},
   "outputs": [],
   "source": [
    "test_features = np.array(test_features)\n",
    "test_features = np.reshape(test_features, (test_features.shape[0], test_features.shape[1], 1))"
   ]
  },
  {
   "cell_type": "code",
   "execution_count": 126,
   "metadata": {},
   "outputs": [],
   "source": [
    "predictions = model.predict(test_features)"
   ]
  },
  {
   "cell_type": "code",
   "execution_count": 127,
   "metadata": {},
   "outputs": [
    {
     "data": {
      "text/plain": [
       "array([[168.32278],\n",
       "       [167.96837],\n",
       "       [168.2282 ],\n",
       "       [168.89929],\n",
       "       [169.76488],\n",
       "       [170.67207],\n",
       "       [171.43378],\n",
       "       [171.70892],\n",
       "       [171.7651 ],\n",
       "       [172.00903],\n",
       "       [172.69319],\n",
       "       [173.3041 ],\n",
       "       [174.09607],\n",
       "       [174.82826],\n",
       "       [175.1199 ],\n",
       "       [175.00099],\n",
       "       [174.67982],\n",
       "       [173.94566],\n",
       "       [172.65758],\n",
       "       [170.96338]], dtype=float32)"
      ]
     },
     "execution_count": 127,
     "metadata": {},
     "output_type": "execute_result"
    }
   ],
   "source": [
    "predictions = scaler.inverse_transform(predictions)\n",
    "predictions"
   ]
  },
  {
   "cell_type": "code",
   "execution_count": 128,
   "metadata": {},
   "outputs": [
    {
     "data": {
      "image/png": "[encoded data removed]",
      "text/plain": [
       "<Figure size 720x432 with 1 Axes>"
      ]
     },
     "metadata": {
      "needs_background": "light"
     },
     "output_type": "display_data"
    }
   ],
   "source": [
    "plt.figure(figsize=(10,6))\n",
    "plt.plot(apple_testing_processed, color='blue', label='Actual Apple Stock Price')\n",
    "plt.plot(predictions , color='red', label='Predicted Apple Stock Price')\n",
    "plt.title('Apple Stock Price Prediction')\n",
    "plt.xlabel('Date')\n",
    "plt.ylabel('Apple Stock Price')\n",
    "plt.legend()\n",
    "plt.show()"
   ]
  },
  {
   "cell_type": "code",
   "execution_count": null,
   "metadata": {},
   "outputs": [],
   "source": []
  }
 ],
 "metadata": {
  "kernelspec": {
   "display_name": "Python 3",
   "language": "python",
   "name": "python3"
  },
  "language_info": {
   "codemirror_mode": {
    "name": "ipython",
    "version": 3
   },
   "file_extension": ".py",
   "mimetype": "text/x-python",
   "name": "python",
   "nbconvert_exporter": "python",
   "pygments_lexer": "ipython3",
   "version": "3.7.3"
  }
 },
 "nbformat": 4,
 "nbformat_minor": 2
}
